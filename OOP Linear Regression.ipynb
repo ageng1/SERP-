{
 "cells": [
  {
   "cell_type": "code",
   "execution_count": 1,
   "metadata": {},
   "outputs": [],
   "source": [
    "import numpy as np\n",
    "import pandas as pd\n",
    "from sklearn import datasets\n",
    "import matplotlib.pyplot as plt"
   ]
  },
  {
   "cell_type": "code",
   "execution_count": 2,
   "metadata": {},
   "outputs": [],
   "source": [
    "class LinearRegression:\n",
    "    \n",
    "    def __init__(self,X,y,X_label,y_label,title):\n",
    "        self.X = X\n",
    "        self.y = y\n",
    "        self.X_label = X_label\n",
    "        self.y_label = y_label\n",
    "        self.title = title\n",
    "        self.m = 0\n",
    "        self.b = 0\n",
    "        \n",
    "    def get_equation(self):\n",
    "        avg_X = np.average(self.X)\n",
    "        avg_y = np.average(self.y)\n",
    "        \n",
    "        num = 0\n",
    "        den = 0\n",
    "        \n",
    "        self.m = 0\n",
    "        self.b = 0\n",
    "            \n",
    "        for x,y in zip(self.X,self.y):\n",
    "            num += (x - avg_X) * (y - avg_y)\n",
    "            den += (x - avg_X)**2\n",
    "        \n",
    "        self.m += num / den \n",
    "        self.b += (avg_y - self.m * avg_X)\n",
    "    \n",
    "        return self.m, self.b\n",
    "    \n",
    "    def get_graph(self):\n",
    "        plt.plot(self.X,self.y, 'ro')\n",
    "        x_vals = np.arange(np.amin(self.X),np.amax(self.X))\n",
    "        plt.plot(x_vals, self.m * x_vals + self.b)\n",
    "        \n",
    "        plt.xlabel(self.X_label)\n",
    "        plt.ylabel(self.y_label)\n",
    "        plt.title(self.title)\n",
    "       \n",
    "    def get_R2(self):\n",
    "        num = 0\n",
    "        den = 0\n",
    "            \n",
    "        for x,y in zip(self.X,self.y):\n",
    "            pred = self.m * x + self.b\n",
    "        \n",
    "            num += (y - pred) ** 2\n",
    "            den += (y - np.average(self.y)) ** 2\n",
    "        \n",
    "        R2 = 1 - (num / den)\n",
    "        return R2"
   ]
  },
  {
   "cell_type": "markdown",
   "metadata": {},
   "source": [
    "# GRE Scores vs Chance of Admittance"
   ]
  },
  {
   "cell_type": "code",
   "execution_count": 3,
   "metadata": {},
   "outputs": [],
   "source": [
    "GRE_df = pd.read_excel('Admission Predict.xlsx')\n",
    "GRE_X = GRE_df['GRE Score']\n",
    "GRE_y = GRE_df['Y']*100"
   ]
  },
  {
   "cell_type": "code",
   "execution_count": 4,
   "metadata": {},
   "outputs": [],
   "source": [
    "GRE_LinearRegression = LinearRegression(GRE_X,GRE_y,'GRE Score',\n",
    "                                         'Chance of Admittance',\n",
    "                                        'GRE Score vs. Chance of Admittance')"
   ]
  },
  {
   "cell_type": "code",
   "execution_count": 5,
   "metadata": {},
   "outputs": [
    {
     "data": {
      "text/plain": [
       "(0.997588202568138, -243.6084244851054)"
      ]
     },
     "execution_count": 5,
     "metadata": {},
     "output_type": "execute_result"
    }
   ],
   "source": [
    "GRE_LinearRegression.get_equation()\n",
    "# m, b"
   ]
  },
  {
   "cell_type": "code",
   "execution_count": 6,
   "metadata": {},
   "outputs": [
    {
     "data": {
      "image/png": "[encoded data removed]",
      "text/plain": [
       "<Figure size 432x288 with 1 Axes>"
      ]
     },
     "metadata": {
      "needs_background": "light"
     },
     "output_type": "display_data"
    }
   ],
   "source": [
    "GRE_LinearRegression.get_graph()"
   ]
  },
  {
   "cell_type": "code",
   "execution_count": 7,
   "metadata": {},
   "outputs": [
    {
     "data": {
      "text/plain": [
       "0.6441835498438337"
      ]
     },
     "execution_count": 7,
     "metadata": {},
     "output_type": "execute_result"
    }
   ],
   "source": [
    "GRE_LinearRegression.get_R2()"
   ]
  },
  {
   "cell_type": "markdown",
   "metadata": {},
   "source": [
    "# Temperature vs Humidity"
   ]
  },
  {
   "cell_type": "code",
   "execution_count": 8,
   "metadata": {},
   "outputs": [],
   "source": [
    "temp_df = pd.read_csv('weatherHistory.csv')\n",
    "temp_X = temp_df['Humidity'][:200]*100\n",
    "temp_y = temp_df['Temperature (C)'][:200]"
   ]
  },
  {
   "cell_type": "code",
   "execution_count": 9,
   "metadata": {},
   "outputs": [],
   "source": [
    "temp_LinearRegression = LinearRegression(temp_X,temp_y,'Humidity (kg/m^3)',\n",
    "                                        'Temperature (C)',\n",
    "                                        'Humidity vs. Temperature')"
   ]
  },
  {
   "cell_type": "code",
   "execution_count": 10,
   "metadata": {},
   "outputs": [
    {
     "data": {
      "text/plain": [
       "(-0.21090733095512745, 26.968200249641068)"
      ]
     },
     "execution_count": 10,
     "metadata": {},
     "output_type": "execute_result"
    }
   ],
   "source": [
    "temp_LinearRegression.get_equation()\n",
    "# m, b"
   ]
  },
  {
   "cell_type": "code",
   "execution_count": 11,
   "metadata": {},
   "outputs": [
    {
     "data": {
      "image/png": "[encoded data removed]",
      "text/plain": [
       "<Figure size 432x288 with 1 Axes>"
      ]
     },
     "metadata": {
      "needs_background": "light"
     },
     "output_type": "display_data"
    }
   ],
   "source": [
    "temp_LinearRegression.get_graph()"
   ]
  },
  {
   "cell_type": "code",
   "execution_count": 12,
   "metadata": {},
   "outputs": [
    {
     "data": {
      "text/plain": [
       "0.6210181631836831"
      ]
     },
     "execution_count": 12,
     "metadata": {},
     "output_type": "execute_result"
    }
   ],
   "source": [
    "temp_LinearRegression.get_R2()"
   ]
  }
 ],
 "metadata": {
  "kernelspec": {
   "display_name": "Python 3",
   "language": "python",
   "name": "python3"
  },
  "language_info": {
   "codemirror_mode": {
    "name": "ipython",
    "version": 3
   },
   "file_extension": ".py",
   "mimetype": "text/x-python",
   "name": "python",
   "nbconvert_exporter": "python",
   "pygments_lexer": "ipython3",
   "version": "3.7.3"
  }
 },
 "nbformat": 4,
 "nbformat_minor": 2
}
