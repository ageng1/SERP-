{
 "cells": [
  {
   "cell_type": "code",
   "execution_count": 1,
   "metadata": {},
   "outputs": [],
   "source": [
    "import numpy as np\n",
    "import matplotlib.pyplot as plt"
   ]
  },
  {
   "cell_type": "code",
   "execution_count": 2,
   "metadata": {},
   "outputs": [],
   "source": [
    "LR = 0.01\n",
    "iterations = 10000\n",
    "np.random.seed(1)"
   ]
  },
  {
   "cell_type": "code",
   "execution_count": 3,
   "metadata": {},
   "outputs": [],
   "source": [
    "class LinearRegression():\n",
    "    \n",
    "    def __init__(self,X,y):\n",
    "        self.X = X\n",
    "        self.y = y\n",
    "        self.m = np.random.randn()\n",
    "        self.b = np.random.randn()\n",
    "        self.costs = []\n",
    "          \n",
    "    def sigmoid(self,x):   # calc sigmoid\n",
    "        return 1/(1+np.exp(-x))\n",
    "    \n",
    "    def d_sigmoid(self,x):  # calc derivative of sigmoid\n",
    "        return self.sigmoid(x)*(1-self.sigmoid(x))\n",
    "    \n",
    "    def train(self):\n",
    "        \n",
    "        for i in range(iterations):\n",
    "            index = np.random.randint(len(X))\n",
    "            \n",
    "            z = self.X[index]*self.m+self.b\n",
    "            \n",
    "            cost = z-y[index]\n",
    "            self.costs.append(np.square(cost))\n",
    "            \n",
    "            # derivative of cost with respect to m\n",
    "            dcost_dm = 2*(cost)*self.d_sigmoid(z)*X[index]\n",
    "            \n",
    "            # derivative of cost with respect to b\n",
    "            dcost_db = 2*(cost)*self.d_sigmoid(z)\n",
    "            \n",
    "            # update m with derivative*learning rate\n",
    "            self.m = self.m - dcost_dm*LR\n",
    "            # update m with derivative*learning rate\n",
    "            self.b = self.b - dcost_db*LR\n",
    "        \n",
    "        return self.m,self.b\n",
    "            \n",
    "    def cost_graphs(self):\n",
    "        plt.plot(self.costs)\n",
    "            \n",
    "    def plot_line(self):\n",
    "        plt.scatter(self.X,self.y)\n",
    "        x_vals = [np.amin(self.X),np.amax(self.X)]\n",
    "        plt.plot(x_vals, self.m * x_vals + self.b,'r')"
   ]
  },
  {
   "cell_type": "code",
   "execution_count": 4,
   "metadata": {},
   "outputs": [],
   "source": [
    "# Generate Data\n",
    "X = 2 * np.random.rand(100,1)\n",
    "y = 4 + 3 * X+np.random.randn(100,1)"
   ]
  },
  {
   "cell_type": "code",
   "execution_count": 5,
   "metadata": {},
   "outputs": [],
   "source": [
    "linreg = LinearRegression(X,y)"
   ]
  },
  {
   "cell_type": "code",
   "execution_count": 6,
   "metadata": {},
   "outputs": [
    {
     "data": {
      "text/plain": [
       "(array([2.63279404]), array([3.86992802]))"
      ]
     },
     "execution_count": 6,
     "metadata": {},
     "output_type": "execute_result"
    }
   ],
   "source": [
    "linreg.train()  # m,b should be 3,4"
   ]
  },
  {
   "cell_type": "code",
   "execution_count": 7,
   "metadata": {},
   "outputs": [
    {
     "data": {
      "image/png": "[encoded data removed]",
      "text/plain": [
       "<Figure size 432x288 with 1 Axes>"
      ]
     },
     "metadata": {
      "needs_background": "light"
     },
     "output_type": "display_data"
    }
   ],
   "source": [
    "linreg.plot_line()"
   ]
  },
  {
   "cell_type": "code",
   "execution_count": 8,
   "metadata": {},
   "outputs": [
    {
     "data": {
      "image/png": "[encoded data removed]",
      "text/plain": [
       "<Figure size 432x288 with 1 Axes>"
      ]
     },
     "metadata": {
      "needs_background": "light"
     },
     "output_type": "display_data"
    }
   ],
   "source": [
    "linreg.cost_graphs()"
   ]
  },
  {
   "cell_type": "code",
   "execution_count": null,
   "metadata": {},
   "outputs": [],
   "source": []
  }
 ],
 "metadata": {
  "kernelspec": {
   "display_name": "Python 3",
   "language": "python",
   "name": "python3"
  },
  "language_info": {
   "codemirror_mode": {
    "name": "ipython",
    "version": 3
   },
   "file_extension": ".py",
   "mimetype": "text/x-python",
   "name": "python",
   "nbconvert_exporter": "python",
   "pygments_lexer": "ipython3",
   "version": "3.7.3"
  }
 },
 "nbformat": 4,
 "nbformat_minor": 2
}
